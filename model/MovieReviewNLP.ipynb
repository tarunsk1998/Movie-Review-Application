{
 "cells": [
  {
   "cell_type": "markdown",
   "metadata": {
    "id": "y4rtpIblcnYl"
   },
   "source": [
    "# Mounting the drive to Google colab"
   ]
  },
  {
   "cell_type": "code",
   "execution_count": 1,
   "metadata": {
    "colab": {
     "base_uri": "https://localhost:8080/"
    },
    "executionInfo": {
     "elapsed": 19385,
     "status": "ok",
     "timestamp": 1631541485760,
     "user": {
      "displayName": "tarun suresh",
      "photoUrl": "https://lh3.googleusercontent.com/a-/AOh14Gho0KlKaHRPsnL6-N-yT2HLk2mPog7jy0TgoPsEGA=s64",
      "userId": "06821843877267937716"
     },
     "user_tz": -330
    },
    "id": "d9rNTztKVOls",
    "outputId": "abd94729-6f93-41c5-ce28-a86b50924c96"
   },
   "outputs": [
    {
     "name": "stdout",
     "output_type": "stream",
     "text": [
      "Mounted at /content/drive\n"
     ]
    }
   ],
   "source": [
    "from google.colab import drive\n",
    "drive.mount('/content/drive')"
   ]
  },
  {
   "cell_type": "code",
   "execution_count": 2,
   "metadata": {
    "colab": {
     "base_uri": "https://localhost:8080/"
    },
    "executionInfo": {
     "elapsed": 8560,
     "status": "ok",
     "timestamp": 1631541498156,
     "user": {
      "displayName": "tarun suresh",
      "photoUrl": "https://lh3.googleusercontent.com/a-/AOh14Gho0KlKaHRPsnL6-N-yT2HLk2mPog7jy0TgoPsEGA=s64",
      "userId": "06821843877267937716"
     },
     "user_tz": -330
    },
    "id": "TpgTugUTVZKt",
    "outputId": "e78c6c2c-53a0-489d-f539-28407243b36f"
   },
   "outputs": [
    {
     "name": "stdout",
     "output_type": "stream",
     "text": [
      "[nltk_data] Downloading package punkt to /root/nltk_data...\n",
      "[nltk_data]   Unzipping tokenizers/punkt.zip.\n",
      "[nltk_data] Downloading package stopwords to /root/nltk_data...\n",
      "[nltk_data]   Unzipping corpora/stopwords.zip.\n",
      "\u001b[K     |████████████████████████████████| 97 kB 3.8 MB/s \n",
      "\u001b[?25h"
     ]
    }
   ],
   "source": [
    "import pandas as pd\n",
    "import numpy as np\n",
    "import re\n",
    "import nltk\n",
    "nltk.download('punkt')\n",
    "nltk.download('stopwords')\n",
    "from nltk.corpus import stopwords\n",
    "from nltk.stem.porter import PorterStemmer\n",
    "!pip install -q -U keras-tuner\n",
    "import keras_tuner as kt\n",
    "import heapq"
   ]
  },
  {
   "cell_type": "code",
   "execution_count": 3,
   "metadata": {
    "executionInfo": {
     "elapsed": 4,
     "status": "ok",
     "timestamp": 1631541525344,
     "user": {
      "displayName": "tarun suresh",
      "photoUrl": "https://lh3.googleusercontent.com/a-/AOh14Gho0KlKaHRPsnL6-N-yT2HLk2mPog7jy0TgoPsEGA=s64",
      "userId": "06821843877267937716"
     },
     "user_tz": -330
    },
    "id": "L0WAKfqiZMTY"
   },
   "outputs": [],
   "source": [
    "stemmer = PorterStemmer()"
   ]
  },
  {
   "cell_type": "code",
   "execution_count": 4,
   "metadata": {
    "colab": {
     "base_uri": "https://localhost:8080/",
     "height": 203
    },
    "executionInfo": {
     "elapsed": 2323,
     "status": "ok",
     "timestamp": 1631541529308,
     "user": {
      "displayName": "tarun suresh",
      "photoUrl": "https://lh3.googleusercontent.com/a-/AOh14Gho0KlKaHRPsnL6-N-yT2HLk2mPog7jy0TgoPsEGA=s64",
      "userId": "06821843877267937716"
     },
     "user_tz": -330
    },
    "id": "ZVmkQFLiVtcz",
    "outputId": "9b306f1c-248f-43a0-9a3a-3c8da5d009aa"
   },
   "outputs": [
    {
     "data": {
      "text/html": [
       "<div>\n",
       "<style scoped>\n",
       "    .dataframe tbody tr th:only-of-type {\n",
       "        vertical-align: middle;\n",
       "    }\n",
       "\n",
       "    .dataframe tbody tr th {\n",
       "        vertical-align: top;\n",
       "    }\n",
       "\n",
       "    .dataframe thead th {\n",
       "        text-align: right;\n",
       "    }\n",
       "</style>\n",
       "<table border=\"1\" class=\"dataframe\">\n",
       "  <thead>\n",
       "    <tr style=\"text-align: right;\">\n",
       "      <th></th>\n",
       "      <th>review</th>\n",
       "      <th>sentiment</th>\n",
       "    </tr>\n",
       "  </thead>\n",
       "  <tbody>\n",
       "    <tr>\n",
       "      <th>0</th>\n",
       "      <td>One of the other reviewers has mentioned that ...</td>\n",
       "      <td>positive</td>\n",
       "    </tr>\n",
       "    <tr>\n",
       "      <th>1</th>\n",
       "      <td>A wonderful little production. &lt;br /&gt;&lt;br /&gt;The...</td>\n",
       "      <td>positive</td>\n",
       "    </tr>\n",
       "    <tr>\n",
       "      <th>2</th>\n",
       "      <td>I thought this was a wonderful way to spend ti...</td>\n",
       "      <td>positive</td>\n",
       "    </tr>\n",
       "    <tr>\n",
       "      <th>3</th>\n",
       "      <td>Basically there's a family where a little boy ...</td>\n",
       "      <td>negative</td>\n",
       "    </tr>\n",
       "    <tr>\n",
       "      <th>4</th>\n",
       "      <td>Petter Mattei's \"Love in the Time of Money\" is...</td>\n",
       "      <td>positive</td>\n",
       "    </tr>\n",
       "  </tbody>\n",
       "</table>\n",
       "</div>"
      ],
      "text/plain": [
       "                                              review sentiment\n",
       "0  One of the other reviewers has mentioned that ...  positive\n",
       "1  A wonderful little production. <br /><br />The...  positive\n",
       "2  I thought this was a wonderful way to spend ti...  positive\n",
       "3  Basically there's a family where a little boy ...  negative\n",
       "4  Petter Mattei's \"Love in the Time of Money\" is...  positive"
      ]
     },
     "execution_count": 4,
     "metadata": {},
     "output_type": "execute_result"
    }
   ],
   "source": [
    "Movie_review_df = pd.read_csv(\"/content/drive/MyDrive/NLP/MovieReviewNLP/IMDB-Dataset.csv\", nrows = 5000)\n",
    "Movie_review_df.head()"
   ]
  },
  {
   "cell_type": "code",
   "execution_count": 5,
   "metadata": {
    "colab": {
     "base_uri": "https://localhost:8080/"
    },
    "executionInfo": {
     "elapsed": 5,
     "status": "ok",
     "timestamp": 1631541531361,
     "user": {
      "displayName": "tarun suresh",
      "photoUrl": "https://lh3.googleusercontent.com/a-/AOh14Gho0KlKaHRPsnL6-N-yT2HLk2mPog7jy0TgoPsEGA=s64",
      "userId": "06821843877267937716"
     },
     "user_tz": -330
    },
    "id": "r3llozAGV5pz",
    "outputId": "ca4b601e-7df4-4d1c-840a-e3da92eacc32"
   },
   "outputs": [
    {
     "name": "stdout",
     "output_type": "stream",
     "text": [
      "<class 'pandas.core.frame.DataFrame'>\n",
      "RangeIndex: 5000 entries, 0 to 4999\n",
      "Data columns (total 2 columns):\n",
      " #   Column     Non-Null Count  Dtype \n",
      "---  ------     --------------  ----- \n",
      " 0   review     5000 non-null   object\n",
      " 1   sentiment  5000 non-null   object\n",
      "dtypes: object(2)\n",
      "memory usage: 78.2+ KB\n"
     ]
    }
   ],
   "source": [
    "Movie_review_df.info()"
   ]
  },
  {
   "cell_type": "markdown",
   "metadata": {
    "id": "3UGgfTTPWRJp"
   },
   "source": [
    "#The dataset is a perfectly Balanced dataset"
   ]
  },
  {
   "cell_type": "code",
   "execution_count": null,
   "metadata": {
    "colab": {
     "base_uri": "https://localhost:8080/"
    },
    "executionInfo": {
     "elapsed": 479,
     "status": "ok",
     "timestamp": 1631377356291,
     "user": {
      "displayName": "tarun suresh",
      "photoUrl": "https://lh3.googleusercontent.com/a-/AOh14Gho0KlKaHRPsnL6-N-yT2HLk2mPog7jy0TgoPsEGA=s64",
      "userId": "06821843877267937716"
     },
     "user_tz": -330
    },
    "id": "eaXpXu-XWDrL",
    "outputId": "ecf8747b-8710-4ad7-bfcf-2dea409a8e12"
   },
   "outputs": [
    {
     "data": {
      "text/plain": [
       "negative    2532\n",
       "positive    2468\n",
       "Name: sentiment, dtype: int64"
      ]
     },
     "execution_count": 6,
     "metadata": {},
     "output_type": "execute_result"
    }
   ],
   "source": [
    "Movie_review_df[\"sentiment\"].value_counts()"
   ]
  },
  {
   "cell_type": "markdown",
   "metadata": {
    "id": "PklyW2hGY534"
   },
   "source": [
    "# The reviews contain some html tags. We need to remove them along with the other symbols except alphebets and '.'"
   ]
  },
  {
   "cell_type": "code",
   "execution_count": 6,
   "metadata": {
    "executionInfo": {
     "elapsed": 3257,
     "status": "ok",
     "timestamp": 1631541639074,
     "user": {
      "displayName": "tarun suresh",
      "photoUrl": "https://lh3.googleusercontent.com/a-/AOh14Gho0KlKaHRPsnL6-N-yT2HLk2mPog7jy0TgoPsEGA=s64",
      "userId": "06821843877267937716"
     },
     "user_tz": -330
    },
    "id": "l376ELm8Y115"
   },
   "outputs": [],
   "source": [
    "cleaned = re.compile(r'<.*?>')\n",
    "review_corpus = []\n",
    "for i in range(len(Movie_review_df['review'])):\n",
    "    sentences = nltk.sent_tokenize(Movie_review_df['review'][i])\n",
    "    sentences = [''.join(re.sub(cleaned,'',sentence)) for sentence in sentences]\n",
    "    sentences = [''.join(re.sub('[^.a-zA-Z]',' ',sentence)) for sentence in sentences]\n",
    "    sent_list = []\n",
    "    for sentence in sentences:\n",
    "        sentence = sentence.lower()\n",
    "        words = sentence.split()\n",
    "        #words = [stemmer.stem(word) for word in words if not word in stopwords.words('english')] \n",
    "        sent_list.append(' '.join(words))\n",
    "    review_corpus.append(''.join(sent_list))"
   ]
  },
  {
   "cell_type": "code",
   "execution_count": 7,
   "metadata": {
    "colab": {
     "base_uri": "https://localhost:8080/",
     "height": 120
    },
    "executionInfo": {
     "elapsed": 343,
     "status": "ok",
     "timestamp": 1631541640699,
     "user": {
      "displayName": "tarun suresh",
      "photoUrl": "https://lh3.googleusercontent.com/a-/AOh14Gho0KlKaHRPsnL6-N-yT2HLk2mPog7jy0TgoPsEGA=s64",
      "userId": "06821843877267937716"
     },
     "user_tz": -330
    },
    "id": "wmn3Bwj9Y153",
    "outputId": "b7ff0584-4769-4c51-fda4-18f0b6811c0e"
   },
   "outputs": [
    {
     "data": {
      "application/vnd.google.colaboratory.intrinsic+json": {
       "type": "string"
      },
      "text/plain": [
       "'one of the other reviewers has mentioned that after watching just oz episode you ll be hooked.they are right as this is exactly what happened with me.the first thing that struck me about oz was its brutality and unflinching scenes of violence which set in right from the word go.trust me this is not a show for the faint hearted or timid.this show pulls no punches with regards to drugs sex or violence.its is hardcore in the classic use of the word.it is called oz as that is the nickname given to the oswald maximum security state penitentary.it focuses mainly on emerald city an experimental section of the prison where all the cells have glass fronts and face inwards so privacy is not high on the agenda.em city is home to many..aryans muslims gangstas latinos christians italians irish and more....so scuffles death stares dodgy dealings and shady agreements are never far away.i would say the main appeal of the show is due to the fact that it goes where other shows wouldn t dare.forget pretty pictures painted for mainstream audiences forget charm forget romance...oz doesn t mess around.the first episode i ever saw struck me as so nasty it was surreal i couldn t say i was ready for it but as i watched more i developed a taste for oz and got accustomed to the high levels of graphic violence.not just violence but injustice crooked guards who ll be sold out for a nickel inmates who ll kill on order and get away with it well mannered middle class inmates being turned into prison bitches due to their lack of street skills or prison experience watching oz you may become comfortable with what is uncomfortable viewing....thats if you can get in touch with your darker side.'"
      ]
     },
     "execution_count": 7,
     "metadata": {},
     "output_type": "execute_result"
    }
   ],
   "source": [
    "review_corpus[0]"
   ]
  },
  {
   "cell_type": "code",
   "execution_count": 8,
   "metadata": {
    "colab": {
     "base_uri": "https://localhost:8080/",
     "height": 35
    },
    "executionInfo": {
     "elapsed": 291,
     "status": "ok",
     "timestamp": 1631541649847,
     "user": {
      "displayName": "tarun suresh",
      "photoUrl": "https://lh3.googleusercontent.com/a-/AOh14Gho0KlKaHRPsnL6-N-yT2HLk2mPog7jy0TgoPsEGA=s64",
      "userId": "06821843877267937716"
     },
     "user_tz": -330
    },
    "id": "WZ16z83qHm5A",
    "outputId": "e912ab64-064a-44c2-ee8b-41284ef29129"
   },
   "outputs": [
    {
     "data": {
      "application/vnd.google.colaboratory.intrinsic+json": {
       "type": "string"
      },
      "text/plain": [
       "'positive'"
      ]
     },
     "execution_count": 8,
     "metadata": {},
     "output_type": "execute_result"
    }
   ],
   "source": [
    "Movie_review_df[\"sentiment\"][0]"
   ]
  },
  {
   "cell_type": "code",
   "execution_count": 9,
   "metadata": {
    "colab": {
     "base_uri": "https://localhost:8080/"
    },
    "executionInfo": {
     "elapsed": 370,
     "status": "ok",
     "timestamp": 1631541658043,
     "user": {
      "displayName": "tarun suresh",
      "photoUrl": "https://lh3.googleusercontent.com/a-/AOh14Gho0KlKaHRPsnL6-N-yT2HLk2mPog7jy0TgoPsEGA=s64",
      "userId": "06821843877267937716"
     },
     "user_tz": -330
    },
    "id": "P-IXdC-ZY19w",
    "outputId": "e583972f-a0a9-4c83-f2e0-a28c5e8f3e99"
   },
   "outputs": [
    {
     "data": {
      "text/plain": [
       "5000"
      ]
     },
     "execution_count": 9,
     "metadata": {},
     "output_type": "execute_result"
    }
   ],
   "source": [
    "len(review_corpus)"
   ]
  },
  {
   "cell_type": "code",
   "execution_count": 10,
   "metadata": {
    "colab": {
     "base_uri": "https://localhost:8080/"
    },
    "executionInfo": {
     "elapsed": 290,
     "status": "ok",
     "timestamp": 1631541664879,
     "user": {
      "displayName": "tarun suresh",
      "photoUrl": "https://lh3.googleusercontent.com/a-/AOh14Gho0KlKaHRPsnL6-N-yT2HLk2mPog7jy0TgoPsEGA=s64",
      "userId": "06821843877267937716"
     },
     "user_tz": -330
    },
    "id": "uu5iBC8F8D0g",
    "outputId": "d790dc86-1115-4ea9-ac0d-3078b5851e98"
   },
   "outputs": [
    {
     "data": {
      "text/plain": [
       "1686"
      ]
     },
     "execution_count": 10,
     "metadata": {},
     "output_type": "execute_result"
    }
   ],
   "source": [
    "len(review_corpus[0])"
   ]
  },
  {
   "cell_type": "markdown",
   "metadata": {
    "id": "__qlJ-2i32FA"
   },
   "source": [
    "# Summarization of the reviews as the reviews are are too long. Summarizing technique used is Extractive Summarization."
   ]
  },
  {
   "cell_type": "code",
   "execution_count": 11,
   "metadata": {
    "executionInfo": {
     "elapsed": 159693,
     "status": "ok",
     "timestamp": 1631541932114,
     "user": {
      "displayName": "tarun suresh",
      "photoUrl": "https://lh3.googleusercontent.com/a-/AOh14Gho0KlKaHRPsnL6-N-yT2HLk2mPog7jy0TgoPsEGA=s64",
      "userId": "06821843877267937716"
     },
     "user_tz": -330
    },
    "id": "9oGgJUwB31Ky"
   },
   "outputs": [],
   "source": [
    "stopwords = nltk.corpus.stopwords.words('english')\n",
    "for i in range(len(review_corpus)):\n",
    "    #sentences = nltk.sent_tokenize(review_corpus[i])\n",
    "    sentences = review_corpus[i].split(\".\")\n",
    "    #print(sentences)\n",
    "    sentence_scores = {}\n",
    "    for unsummarised_sentence in sentences: \n",
    "        #print(unsummarised_sentence)\n",
    "        if len(unsummarised_sentence) >0:    \n",
    "            word_frequencies = {}\n",
    "            for word in nltk.word_tokenize(unsummarised_sentence):\n",
    "                if word not in stopwords:\n",
    "                    if word not in word_frequencies.keys():\n",
    "                        word_frequencies[word] = 1\n",
    "                    else:\n",
    "                        word_frequencies[word] += 1\n",
    "            #print(word_frequencies)\n",
    "\n",
    "            if len(word_frequencies) > 0:\n",
    "                maximum_frequncy = max(word_frequencies.values())\n",
    "                for word in word_frequencies.keys():\n",
    "                    word_frequencies[word] = (word_frequencies[word]/maximum_frequncy)\n",
    "                # print(word_frequencies)\n",
    "\n",
    "            #print(word_frequencies)  \n",
    "            #split_sentence = sentences.split('.')\n",
    "            for sent in sentences:\n",
    "                #print(sent)\n",
    "                for word in nltk.word_tokenize(sent.lower()):\n",
    "                    if word in word_frequencies.keys():\n",
    "                        #if len(sent.split(' ')) < 30:\n",
    "                        if sent not in sentence_scores.keys():\n",
    "                            sentence_scores[sent] = word_frequencies[word]\n",
    "                        else:\n",
    "                            sentence_scores[sent] += word_frequencies[word]\n",
    "            \n",
    "            \n",
    "    #print(\"sentence_scores : \")\n",
    "    #print(sentence_scores)        \n",
    "    summary_sentences = heapq.nlargest(7, sentence_scores, key=sentence_scores.get)\n",
    "    summary = ' '.join(summary_sentences)\n",
    "    #print(summary)\n",
    "    review_corpus[i] = summary\n"
   ]
  },
  {
   "cell_type": "markdown",
   "metadata": {
    "id": "-pVj52m1eHXt"
   },
   "source": [
    "# Model creation"
   ]
  },
  {
   "cell_type": "code",
   "execution_count": 12,
   "metadata": {
    "executionInfo": {
     "elapsed": 316,
     "status": "ok",
     "timestamp": 1631542095603,
     "user": {
      "displayName": "tarun suresh",
      "photoUrl": "https://lh3.googleusercontent.com/a-/AOh14Gho0KlKaHRPsnL6-N-yT2HLk2mPog7jy0TgoPsEGA=s64",
      "userId": "06821843877267937716"
     },
     "user_tz": -330
    },
    "id": "HI_flsHbWiuo"
   },
   "outputs": [],
   "source": [
    "from tensorflow.keras.layers import Embedding, Bidirectional\n",
    "from tensorflow.keras.preprocessing.sequence import pad_sequences\n",
    "from tensorflow.keras.models import Sequential\n",
    "from tensorflow.keras.preprocessing.text import one_hot\n",
    "from tensorflow.keras.layers import LSTM, Dense, Flatten, Dropout\n",
    "from tensorflow import keras"
   ]
  },
  {
   "cell_type": "code",
   "execution_count": 13,
   "metadata": {
    "executionInfo": {
     "elapsed": 859,
     "status": "ok",
     "timestamp": 1631542098728,
     "user": {
      "displayName": "tarun suresh",
      "photoUrl": "https://lh3.googleusercontent.com/a-/AOh14Gho0KlKaHRPsnL6-N-yT2HLk2mPog7jy0TgoPsEGA=s64",
      "userId": "06821843877267937716"
     },
     "user_tz": -330
    },
    "id": "eewcGN5dY2By"
   },
   "outputs": [],
   "source": [
    "vocabulary_size = 500\n",
    "one_hot_representation = [one_hot(words, vocabulary_size) for words in review_corpus]"
   ]
  },
  {
   "cell_type": "code",
   "execution_count": 14,
   "metadata": {
    "colab": {
     "base_uri": "https://localhost:8080/"
    },
    "executionInfo": {
     "elapsed": 330,
     "status": "ok",
     "timestamp": 1631542100498,
     "user": {
      "displayName": "tarun suresh",
      "photoUrl": "https://lh3.googleusercontent.com/a-/AOh14Gho0KlKaHRPsnL6-N-yT2HLk2mPog7jy0TgoPsEGA=s64",
      "userId": "06821843877267937716"
     },
     "user_tz": -330
    },
    "id": "UH-nVljqXJCW",
    "outputId": "cbc9cba0-52bc-4cca-be57-783e4b228c88"
   },
   "outputs": [
    {
     "name": "stdout",
     "output_type": "stream",
     "text": [
      "212\n",
      "127\n"
     ]
    }
   ],
   "source": [
    "print(len(one_hot_representation[0]))\n",
    "print(one_hot_representation[0][0])"
   ]
  },
  {
   "cell_type": "code",
   "execution_count": 15,
   "metadata": {
    "executionInfo": {
     "elapsed": 530,
     "status": "ok",
     "timestamp": 1631542102276,
     "user": {
      "displayName": "tarun suresh",
      "photoUrl": "https://lh3.googleusercontent.com/a-/AOh14Gho0KlKaHRPsnL6-N-yT2HLk2mPog7jy0TgoPsEGA=s64",
      "userId": "06821843877267937716"
     },
     "user_tz": -330
    },
    "id": "M0QCbbcgd4Qt"
   },
   "outputs": [],
   "source": [
    "sent_len = 1000\n",
    "embeded_docs = pad_sequences(one_hot_representation, padding=\"pre\", maxlen=sent_len)"
   ]
  },
  {
   "cell_type": "code",
   "execution_count": 16,
   "metadata": {
    "executionInfo": {
     "elapsed": 6132,
     "status": "ok",
     "timestamp": 1631542109975,
     "user": {
      "displayName": "tarun suresh",
      "photoUrl": "https://lh3.googleusercontent.com/a-/AOh14Gho0KlKaHRPsnL6-N-yT2HLk2mPog7jy0TgoPsEGA=s64",
      "userId": "06821843877267937716"
     },
     "user_tz": -330
    },
    "id": "RDOtgG5ze8n3"
   },
   "outputs": [],
   "source": [
    "embedding_vector_feature = 400\n",
    "model = Sequential()\n",
    "#model.add(Flatten())\n",
    "model.add(Embedding(vocabulary_size, embedding_vector_feature, input_length=sent_len))\n",
    "model.add(LSTM(80, return_sequences=True))\n",
    "model.add(Dropout(0.2))\n",
    "model.add(LSTM(80))\n",
    "model.add(Dropout(0.2))\n",
    "model.add(Dense(1, activation='sigmoid'))\n",
    "#model.compile(le,loss='binary_crossentropy', optimizer='adam', metrics=['accuracy'])\n",
    "model.compile(optimizer=keras.optimizers.Adam(learning_rate=1e-4),\n",
    "              loss=keras.losses.BinaryCrossentropy(),\n",
    "              metrics=['accuracy'])"
   ]
  },
  {
   "cell_type": "code",
   "execution_count": 17,
   "metadata": {
    "colab": {
     "base_uri": "https://localhost:8080/"
    },
    "executionInfo": {
     "elapsed": 293,
     "status": "ok",
     "timestamp": 1631542113228,
     "user": {
      "displayName": "tarun suresh",
      "photoUrl": "https://lh3.googleusercontent.com/a-/AOh14Gho0KlKaHRPsnL6-N-yT2HLk2mPog7jy0TgoPsEGA=s64",
      "userId": "06821843877267937716"
     },
     "user_tz": -330
    },
    "id": "KpeV29GFgUcq",
    "outputId": "1022dc52-2d2e-4324-9a90-dd00a5a0f1aa"
   },
   "outputs": [
    {
     "name": "stdout",
     "output_type": "stream",
     "text": [
      "Model: \"sequential\"\n",
      "_________________________________________________________________\n",
      "Layer (type)                 Output Shape              Param #   \n",
      "=================================================================\n",
      "embedding (Embedding)        (None, 1000, 400)         200000    \n",
      "_________________________________________________________________\n",
      "lstm (LSTM)                  (None, 1000, 80)          153920    \n",
      "_________________________________________________________________\n",
      "dropout (Dropout)            (None, 1000, 80)          0         \n",
      "_________________________________________________________________\n",
      "lstm_1 (LSTM)                (None, 80)                51520     \n",
      "_________________________________________________________________\n",
      "dropout_1 (Dropout)          (None, 80)                0         \n",
      "_________________________________________________________________\n",
      "dense (Dense)                (None, 1)                 81        \n",
      "=================================================================\n",
      "Total params: 405,521\n",
      "Trainable params: 405,521\n",
      "Non-trainable params: 0\n",
      "_________________________________________________________________\n",
      "None\n"
     ]
    }
   ],
   "source": [
    "print(model.summary())"
   ]
  },
  {
   "cell_type": "code",
   "execution_count": 18,
   "metadata": {
    "executionInfo": {
     "elapsed": 289,
     "status": "ok",
     "timestamp": 1631542115170,
     "user": {
      "displayName": "tarun suresh",
      "photoUrl": "https://lh3.googleusercontent.com/a-/AOh14Gho0KlKaHRPsnL6-N-yT2HLk2mPog7jy0TgoPsEGA=s64",
      "userId": "06821843877267937716"
     },
     "user_tz": -330
    },
    "id": "rQqopixshEBk"
   },
   "outputs": [],
   "source": [
    "X_final = np.array(embeded_docs)\n",
    "y_final_df = pd.get_dummies(Movie_review_df['sentiment'], drop_first = True)\n",
    "y_final = np.array(y_final_df)"
   ]
  },
  {
   "cell_type": "code",
   "execution_count": 19,
   "metadata": {
    "executionInfo": {
     "elapsed": 565,
     "status": "ok",
     "timestamp": 1631542117191,
     "user": {
      "displayName": "tarun suresh",
      "photoUrl": "https://lh3.googleusercontent.com/a-/AOh14Gho0KlKaHRPsnL6-N-yT2HLk2mPog7jy0TgoPsEGA=s64",
      "userId": "06821843877267937716"
     },
     "user_tz": -330
    },
    "id": "69MU8UB1l12d"
   },
   "outputs": [],
   "source": [
    "from sklearn.model_selection import train_test_split\n",
    "X_train, X_test, y_train, y_test = train_test_split(X_final, y_final, test_size = 0.33, random_state=0)"
   ]
  },
  {
   "cell_type": "markdown",
   "metadata": {
    "id": "VyoXDE5qmhd5"
   },
   "source": [
    "# Model Training"
   ]
  },
  {
   "cell_type": "code",
   "execution_count": 20,
   "metadata": {
    "colab": {
     "base_uri": "https://localhost:8080/"
    },
    "executionInfo": {
     "elapsed": 145815,
     "status": "ok",
     "timestamp": 1631542266064,
     "user": {
      "displayName": "tarun suresh",
      "photoUrl": "https://lh3.googleusercontent.com/a-/AOh14Gho0KlKaHRPsnL6-N-yT2HLk2mPog7jy0TgoPsEGA=s64",
      "userId": "06821843877267937716"
     },
     "user_tz": -330
    },
    "id": "IfLfzDS3mfEf",
    "outputId": "1fe07429-822a-4025-c909-f489373eb0ad"
   },
   "outputs": [
    {
     "name": "stdout",
     "output_type": "stream",
     "text": [
      "Epoch 1/10\n",
      "14/14 [==============================] - 17s 611ms/step - loss: 0.6927 - accuracy: 0.5331 - val_loss: 0.6924 - val_accuracy: 0.5630\n",
      "Epoch 2/10\n",
      "14/14 [==============================] - 8s 546ms/step - loss: 0.6918 - accuracy: 0.5681 - val_loss: 0.6916 - val_accuracy: 0.5758\n",
      "Epoch 3/10\n",
      "14/14 [==============================] - 8s 547ms/step - loss: 0.6901 - accuracy: 0.6134 - val_loss: 0.6905 - val_accuracy: 0.5830\n",
      "Epoch 4/10\n",
      "14/14 [==============================] - 8s 552ms/step - loss: 0.6871 - accuracy: 0.6376 - val_loss: 0.6872 - val_accuracy: 0.6139\n",
      "Epoch 5/10\n",
      "14/14 [==============================] - 8s 556ms/step - loss: 0.6790 - accuracy: 0.6519 - val_loss: 0.6775 - val_accuracy: 0.6188\n",
      "Epoch 6/10\n",
      "14/14 [==============================] - 8s 563ms/step - loss: 0.6497 - accuracy: 0.6612 - val_loss: 0.6379 - val_accuracy: 0.6448\n",
      "Epoch 7/10\n",
      "14/14 [==============================] - 8s 564ms/step - loss: 0.5788 - accuracy: 0.6979 - val_loss: 0.6113 - val_accuracy: 0.6830\n",
      "Epoch 8/10\n",
      "14/14 [==============================] - 8s 566ms/step - loss: 0.5417 - accuracy: 0.7328 - val_loss: 0.5887 - val_accuracy: 0.6964\n",
      "Epoch 9/10\n",
      "14/14 [==============================] - 8s 564ms/step - loss: 0.5127 - accuracy: 0.7516 - val_loss: 0.5524 - val_accuracy: 0.7345\n",
      "Epoch 10/10\n",
      "14/14 [==============================] - 8s 566ms/step - loss: 0.4875 - accuracy: 0.7675 - val_loss: 0.5451 - val_accuracy: 0.7376\n"
     ]
    },
    {
     "data": {
      "text/plain": [
       "<keras.callbacks.History at 0x7f11500f0bd0>"
      ]
     },
     "execution_count": 20,
     "metadata": {},
     "output_type": "execute_result"
    }
   ],
   "source": [
    "model.fit(X_train, y_train, validation_data=(X_test, y_test), epochs=10, batch_size=250)"
   ]
  },
  {
   "cell_type": "markdown",
   "metadata": {
    "id": "NZmBJYMjf0xt"
   },
   "source": [
    "# Model Testing with shorter reviews"
   ]
  },
  {
   "cell_type": "code",
   "execution_count": 35,
   "metadata": {
    "executionInfo": {
     "elapsed": 475,
     "status": "ok",
     "timestamp": 1631542865377,
     "user": {
      "displayName": "tarun suresh",
      "photoUrl": "https://lh3.googleusercontent.com/a-/AOh14Gho0KlKaHRPsnL6-N-yT2HLk2mPog7jy0TgoPsEGA=s64",
      "userId": "06821843877267937716"
     },
     "user_tz": -330
    },
    "id": "7ChTIeZZf5qD"
   },
   "outputs": [],
   "source": [
    "negative_test_review = \"I must admit that this is one of the worst movies I've ever seen. I thought Dennis Hopper had a little more taste than to appear in this kind of yeeeecchh. If this is supposed to be funny then I gotta look around for a new sense of humor. If you're thinking of buying this movie you'd better think again.\""
   ]
  },
  {
   "cell_type": "code",
   "execution_count": 36,
   "metadata": {
    "executionInfo": {
     "elapsed": 2,
     "status": "ok",
     "timestamp": 1631542866642,
     "user": {
      "displayName": "tarun suresh",
      "photoUrl": "https://lh3.googleusercontent.com/a-/AOh14Gho0KlKaHRPsnL6-N-yT2HLk2mPog7jy0TgoPsEGA=s64",
      "userId": "06821843877267937716"
     },
     "user_tz": -330
    },
    "id": "B0F5OEcbgV8L"
   },
   "outputs": [],
   "source": [
    "cleaned = re.compile(r'<.*?>')\n",
    "test_review_corpus = []\n",
    "test_sentences = nltk.sent_tokenize(negative_test_review)\n",
    "test_sentences = [''.join(re.sub(cleaned,'',sentence)) for sentence in test_sentences]\n",
    "test_sentences = [''.join(re.sub('[^a-zA-Z]',' ',sentence)) for sentence in test_sentences]\n",
    "test_sent_list = []\n",
    "for sentence in test_sentences:\n",
    "    sentence = sentence.lower()\n",
    "    words = sentence.split()\n",
    "    #words = [stemmer.stem(word) for word in words if not word in stopwords.words('english')] \n",
    "    sent_list.append(' '.join(words))\n",
    "test_review_corpus.append(''.join(sent_list))"
   ]
  },
  {
   "cell_type": "code",
   "execution_count": 37,
   "metadata": {
    "executionInfo": {
     "elapsed": 2,
     "status": "ok",
     "timestamp": 1631542867829,
     "user": {
      "displayName": "tarun suresh",
      "photoUrl": "https://lh3.googleusercontent.com/a-/AOh14Gho0KlKaHRPsnL6-N-yT2HLk2mPog7jy0TgoPsEGA=s64",
      "userId": "06821843877267937716"
     },
     "user_tz": -330
    },
    "id": "BGq9oq2fgm1m"
   },
   "outputs": [],
   "source": [
    "vocabulary_size = 500\n",
    "test_one_hot_representation = [one_hot(words, vocabulary_size) for words in test_review_corpus]"
   ]
  },
  {
   "cell_type": "code",
   "execution_count": 38,
   "metadata": {
    "executionInfo": {
     "elapsed": 1,
     "status": "ok",
     "timestamp": 1631542869080,
     "user": {
      "displayName": "tarun suresh",
      "photoUrl": "https://lh3.googleusercontent.com/a-/AOh14Gho0KlKaHRPsnL6-N-yT2HLk2mPog7jy0TgoPsEGA=s64",
      "userId": "06821843877267937716"
     },
     "user_tz": -330
    },
    "id": "OWYtaMUbgtDx"
   },
   "outputs": [],
   "source": [
    "sent_len = 1000\n",
    "test_embeded_docs = pad_sequences(test_one_hot_representation, padding=\"pre\", maxlen=sent_len)"
   ]
  },
  {
   "cell_type": "code",
   "execution_count": 39,
   "metadata": {
    "colab": {
     "base_uri": "https://localhost:8080/"
    },
    "executionInfo": {
     "elapsed": 540,
     "status": "ok",
     "timestamp": 1631542870706,
     "user": {
      "displayName": "tarun suresh",
      "photoUrl": "https://lh3.googleusercontent.com/a-/AOh14Gho0KlKaHRPsnL6-N-yT2HLk2mPog7jy0TgoPsEGA=s64",
      "userId": "06821843877267937716"
     },
     "user_tz": -330
    },
    "id": "zqmu5FAggwL4",
    "outputId": "7f78174f-f9c1-44a8-d287-9ca30467d22f"
   },
   "outputs": [
    {
     "name": "stdout",
     "output_type": "stream",
     "text": [
      "Negative review\n"
     ]
    }
   ],
   "source": [
    "if(model.predict(test_embeded_docs)[0] <= 0.5):\n",
    "  print(\"Negative review\")\n",
    "else:\n",
    "  print(\"Positive review\")"
   ]
  },
  {
   "cell_type": "code",
   "execution_count": 40,
   "metadata": {
    "executionInfo": {
     "elapsed": 475,
     "status": "ok",
     "timestamp": 1631542872394,
     "user": {
      "displayName": "tarun suresh",
      "photoUrl": "https://lh3.googleusercontent.com/a-/AOh14Gho0KlKaHRPsnL6-N-yT2HLk2mPog7jy0TgoPsEGA=s64",
      "userId": "06821843877267937716"
     },
     "user_tz": -330
    },
    "id": "MSBvInUkhpus"
   },
   "outputs": [],
   "source": [
    "positive_test_review = \"Halloween is one of the best examples of independent film. It's very well made and has more psychological elements to it than you might realize at first glance. It is a simple movie told very well. The music is perfect and is one of the most haunting scores... If you haven't seen this movie yet, you must check it out. The cast is all terrific. I wish they had never made sequel after sequel. The first one was by far the best and should have ended like it did without having a sequel. It was fun to see Jamie Lee Curtis in the movie. She hasn't seemed to age (she's just as gorgeous today, without the hairdo and seventies clothes). The scenes through the mask are one of the scariest things ever!\""
   ]
  },
  {
   "cell_type": "code",
   "execution_count": 41,
   "metadata": {
    "executionInfo": {
     "elapsed": 2,
     "status": "ok",
     "timestamp": 1631542873714,
     "user": {
      "displayName": "tarun suresh",
      "photoUrl": "https://lh3.googleusercontent.com/a-/AOh14Gho0KlKaHRPsnL6-N-yT2HLk2mPog7jy0TgoPsEGA=s64",
      "userId": "06821843877267937716"
     },
     "user_tz": -330
    },
    "id": "miW0sRxOhp3c"
   },
   "outputs": [],
   "source": [
    "cleaned = re.compile(r'<.*?>')\n",
    "test_review_corpus = []\n",
    "test_sentences = nltk.sent_tokenize(positive_test_review)\n",
    "test_sentences = [''.join(re.sub(cleaned,'',sentence)) for sentence in test_sentences]\n",
    "test_sentences = [''.join(re.sub('[^a-zA-Z]',' ',sentence)) for sentence in test_sentences]\n",
    "test_sent_list = []\n",
    "for sentence in test_sentences:\n",
    "    sentence = sentence.lower()\n",
    "    words = sentence.split()\n",
    "    #words = [stemmer.stem(word) for word in words if not word in stopwords.words('english')] \n",
    "    sent_list.append(' '.join(words))\n",
    "test_review_corpus.append(''.join(sent_list))"
   ]
  },
  {
   "cell_type": "code",
   "execution_count": 42,
   "metadata": {
    "executionInfo": {
     "elapsed": 1,
     "status": "ok",
     "timestamp": 1631542874922,
     "user": {
      "displayName": "tarun suresh",
      "photoUrl": "https://lh3.googleusercontent.com/a-/AOh14Gho0KlKaHRPsnL6-N-yT2HLk2mPog7jy0TgoPsEGA=s64",
      "userId": "06821843877267937716"
     },
     "user_tz": -330
    },
    "id": "Sgg-r_PEhp9j"
   },
   "outputs": [],
   "source": [
    "vocabulary_size = 500\n",
    "test_one_hot_representation = [one_hot(words, vocabulary_size) for words in test_review_corpus]"
   ]
  },
  {
   "cell_type": "code",
   "execution_count": 43,
   "metadata": {
    "executionInfo": {
     "elapsed": 2,
     "status": "ok",
     "timestamp": 1631542876169,
     "user": {
      "displayName": "tarun suresh",
      "photoUrl": "https://lh3.googleusercontent.com/a-/AOh14Gho0KlKaHRPsnL6-N-yT2HLk2mPog7jy0TgoPsEGA=s64",
      "userId": "06821843877267937716"
     },
     "user_tz": -330
    },
    "id": "py0hGqi1hqDD"
   },
   "outputs": [],
   "source": [
    "sent_len = 1000\n",
    "test_embeded_docs = pad_sequences(test_one_hot_representation, padding=\"pre\", maxlen=sent_len)"
   ]
  },
  {
   "cell_type": "code",
   "execution_count": 44,
   "metadata": {
    "colab": {
     "base_uri": "https://localhost:8080/"
    },
    "executionInfo": {
     "elapsed": 5,
     "status": "ok",
     "timestamp": 1631542877477,
     "user": {
      "displayName": "tarun suresh",
      "photoUrl": "https://lh3.googleusercontent.com/a-/AOh14Gho0KlKaHRPsnL6-N-yT2HLk2mPog7jy0TgoPsEGA=s64",
      "userId": "06821843877267937716"
     },
     "user_tz": -330
    },
    "id": "uwev11U9h968",
    "outputId": "8112fcfa-254b-4cf6-bd24-5f6524b45e2f"
   },
   "outputs": [
    {
     "name": "stdout",
     "output_type": "stream",
     "text": [
      "Positive review\n"
     ]
    }
   ],
   "source": [
    "if(model.predict(test_embeded_docs)[0] <= 0.5):\n",
    "  print(\"Negative review\")\n",
    "else:\n",
    "  print(\"Positive review\")"
   ]
  },
  {
   "cell_type": "markdown",
   "metadata": {
    "id": "GihXRFNkezuE"
   },
   "source": [
    "# Saving the Deep Learning model"
   ]
  },
  {
   "cell_type": "code",
   "execution_count": 45,
   "metadata": {
    "colab": {
     "base_uri": "https://localhost:8080/"
    },
    "executionInfo": {
     "elapsed": 3080,
     "status": "ok",
     "timestamp": 1631542895456,
     "user": {
      "displayName": "tarun suresh",
      "photoUrl": "https://lh3.googleusercontent.com/a-/AOh14Gho0KlKaHRPsnL6-N-yT2HLk2mPog7jy0TgoPsEGA=s64",
      "userId": "06821843877267937716"
     },
     "user_tz": -330
    },
    "id": "w2oBLibpsRTk",
    "outputId": "61ab0936-1706-4c96-8d83-c17a135c451f"
   },
   "outputs": [
    {
     "name": "stdout",
     "output_type": "stream",
     "text": [
      "Requirement already satisfied: h5py in /usr/local/lib/python3.7/dist-packages (3.1.0)\n",
      "Requirement already satisfied: numpy>=1.14.5 in /usr/local/lib/python3.7/dist-packages (from h5py) (1.19.5)\n",
      "Requirement already satisfied: cached-property in /usr/local/lib/python3.7/dist-packages (from h5py) (1.5.2)\n"
     ]
    }
   ],
   "source": [
    "!pip install h5py\n",
    "\n",
    "# serialize model to JSON\n",
    "model_json = model.to_json()\n",
    "with open(\"movie_review_model.json\", \"w\") as json_file:\n",
    "    json_file.write(model_json)\n",
    "\n",
    "# serialize weights to HDF5\n",
    "model.save_weights(\"movie_review_model_weights.h5\")\n",
    "\n",
    "# saving the model in h5 format\n",
    "model.save(\"movie_review_model.h5\")"
   ]
  },
  {
   "cell_type": "markdown",
   "metadata": {
    "id": "h3tizeEuefQj"
   },
   "source": [
    "# Hyperparameter tuning with Keras "
   ]
  },
  {
   "cell_type": "code",
   "execution_count": null,
   "metadata": {
    "id": "HY2LOidQm9xE"
   },
   "outputs": [],
   "source": [
    "def model_builder(hp):\n",
    "  model = Sequential()\n",
    "  model.add(Flatten())\n",
    "  model.add(Embedding(vocabulary_size, embedding_vector_feature, input_length=sent_len))\n",
    "  model.add(keras.layers.Dropout(0.2))\n",
    "\n",
    "  # Tune the number of units in the first Dense layer\n",
    "  # Choose an optimal value between 32-512\n",
    "  hp_units = hp.Int('units', min_value=80, max_value=120, step=10)\n",
    "  model.add(LSTM(units=hp_units))\n",
    "  model.add(keras.layers.Dropout(0.4))\n",
    "  model.add(Dense(1, activation='sigmoid'))\n",
    "\n",
    "  # Tune the learning rate for the optimizer\n",
    "  # Choose an optimal value from 0.001, or 0.0001\n",
    "  hp_learning_rate = hp.Choice('learning_rate', values=[1e-3, 1e-4])\n",
    "\n",
    "  model.compile(optimizer=keras.optimizers.Adam(learning_rate=hp_learning_rate),\n",
    "                loss='binary_crossentropy',\n",
    "                metrics=['accuracy'])\n",
    "\n",
    "  return model"
   ]
  },
  {
   "cell_type": "code",
   "execution_count": null,
   "metadata": {
    "id": "DzuPGqFSn6pG"
   },
   "outputs": [],
   "source": [
    "tuner = kt.RandomSearch(model_builder,\n",
    "                     objective='val_accuracy',\n",
    "                     max_trials=5,\n",
    "                     executions_per_trial=3,\n",
    "                     overwrite=True,\n",
    "                     directory='/content/drive/MyDrive/NLP/MovieReviewNLP',\n",
    "                     project_name='MovieReview')"
   ]
  },
  {
   "cell_type": "code",
   "execution_count": null,
   "metadata": {
    "colab": {
     "base_uri": "https://localhost:8080/",
     "height": 962
    },
    "executionInfo": {
     "elapsed": 1819113,
     "status": "error",
     "timestamp": 1630942027063,
     "user": {
      "displayName": "tarun suresh",
      "photoUrl": "https://lh3.googleusercontent.com/a-/AOh14Gho0KlKaHRPsnL6-N-yT2HLk2mPog7jy0TgoPsEGA=s64",
      "userId": "06821843877267937716"
     },
     "user_tz": -330
    },
    "id": "6ocaVje_p_ve",
    "outputId": "91d587c8-904b-4f0a-8c5a-f24481a3ffed"
   },
   "outputs": [
    {
     "name": "stdout",
     "output_type": "stream",
     "text": [
      "Trial 5 Complete [00h 06m 52s]\n",
      "val_accuracy: 0.7056565483411154\n",
      "\n",
      "Best val_accuracy So Far: 0.7391919294993082\n",
      "Total elapsed time: 00h 29m 00s\n",
      "\n",
      "Search: Running Trial #6\n",
      "\n",
      "Hyperparameter    |Value             |Best Value So Far \n",
      "units             |90                |100               \n",
      "learning_rate     |0.0001            |0.0001            \n",
      "\n",
      "Epoch 1/10\n",
      "  6/105 [>.............................] - ETA: 11s - loss: 0.6941 - accuracy: 0.5000WARNING:tensorflow:Callback method `on_train_batch_end` is slow compared to the batch time (batch time: 0.0517s vs `on_train_batch_end` time: 0.0645s). Check your callbacks.\n",
      "105/105 [==============================] - 16s 127ms/step - loss: 0.6924 - accuracy: 0.5266 - val_loss: 0.6909 - val_accuracy: 0.5709\n",
      "Epoch 2/10\n",
      "105/105 [==============================] - 12s 112ms/step - loss: 0.6861 - accuracy: 0.6143 - val_loss: 0.6818 - val_accuracy: 0.6382\n",
      "Epoch 3/10\n",
      "105/105 [==============================] - 12s 112ms/step - loss: 0.6390 - accuracy: 0.6660 - val_loss: 0.6113 - val_accuracy: 0.6958\n",
      "Epoch 4/10\n",
      "105/105 [==============================] - 12s 112ms/step - loss: 0.5605 - accuracy: 0.7343 - val_loss: 0.5552 - val_accuracy: 0.7261\n",
      "Epoch 5/10\n",
      "105/105 [==============================] - 12s 112ms/step - loss: 0.5060 - accuracy: 0.7642 - val_loss: 0.5683 - val_accuracy: 0.7309\n",
      "Epoch 6/10\n",
      "105/105 [==============================] - 12s 111ms/step - loss: 0.4818 - accuracy: 0.7806 - val_loss: 0.5647 - val_accuracy: 0.7297\n",
      "Epoch 7/10\n",
      "105/105 [==============================] - 12s 112ms/step - loss: 0.4699 - accuracy: 0.7833 - val_loss: 0.5534 - val_accuracy: 0.7309\n",
      "Epoch 8/10\n",
      "105/105 [==============================] - 12s 111ms/step - loss: 0.4560 - accuracy: 0.7988 - val_loss: 0.5743 - val_accuracy: 0.7321\n",
      "Epoch 9/10\n",
      "105/105 [==============================] - 12s 111ms/step - loss: 0.4469 - accuracy: 0.7985 - val_loss: 0.5751 - val_accuracy: 0.7267\n",
      "Epoch 10/10\n",
      "105/105 [==============================] - 12s 111ms/step - loss: 0.4497 - accuracy: 0.8015 - val_loss: 0.5620 - val_accuracy: 0.7261\n",
      "Epoch 1/10\n",
      "  6/105 [>.............................] - ETA: 11s - loss: 0.6928 - accuracy: 0.5156WARNING:tensorflow:Callback method `on_train_batch_end` is slow compared to the batch time (batch time: 0.0532s vs `on_train_batch_end` time: 0.0643s). Check your callbacks.\n",
      "105/105 [==============================] - 15s 118ms/step - loss: 0.6922 - accuracy: 0.5290 - val_loss: 0.6908 - val_accuracy: 0.5673\n",
      "Epoch 2/10\n",
      " 15/105 [===>..........................] - ETA: 8s - loss: 0.6894 - accuracy: 0.6000"
     ]
    },
    {
     "ename": "KeyboardInterrupt",
     "evalue": "ignored",
     "output_type": "error",
     "traceback": [
      "\u001b[0;31m---------------------------------------------------------------------------\u001b[0m",
      "\u001b[0;31mKeyboardInterrupt\u001b[0m                         Traceback (most recent call last)",
      "\u001b[0;32m<ipython-input-24-91095cf30249>\u001b[0m in \u001b[0;36m<module>\u001b[0;34m()\u001b[0m\n\u001b[0;32m----> 1\u001b[0;31m \u001b[0mtuner\u001b[0m\u001b[0;34m.\u001b[0m\u001b[0msearch\u001b[0m\u001b[0;34m(\u001b[0m\u001b[0mX_train\u001b[0m\u001b[0;34m,\u001b[0m \u001b[0my_train\u001b[0m\u001b[0;34m,\u001b[0m \u001b[0mepochs\u001b[0m\u001b[0;34m=\u001b[0m\u001b[0;36m10\u001b[0m\u001b[0;34m,\u001b[0m \u001b[0mvalidation_data\u001b[0m\u001b[0;34m=\u001b[0m\u001b[0;34m(\u001b[0m\u001b[0mX_test\u001b[0m\u001b[0;34m,\u001b[0m \u001b[0my_test\u001b[0m\u001b[0;34m)\u001b[0m\u001b[0;34m)\u001b[0m\u001b[0;34m\u001b[0m\u001b[0;34m\u001b[0m\u001b[0m\n\u001b[0m",
      "\u001b[0;32m/usr/local/lib/python3.7/dist-packages/keras_tuner/engine/base_tuner.py\u001b[0m in \u001b[0;36msearch\u001b[0;34m(self, *fit_args, **fit_kwargs)\u001b[0m\n\u001b[1;32m    174\u001b[0m \u001b[0;34m\u001b[0m\u001b[0m\n\u001b[1;32m    175\u001b[0m             \u001b[0mself\u001b[0m\u001b[0;34m.\u001b[0m\u001b[0mon_trial_begin\u001b[0m\u001b[0;34m(\u001b[0m\u001b[0mtrial\u001b[0m\u001b[0;34m)\u001b[0m\u001b[0;34m\u001b[0m\u001b[0;34m\u001b[0m\u001b[0m\n\u001b[0;32m--> 176\u001b[0;31m             \u001b[0mself\u001b[0m\u001b[0;34m.\u001b[0m\u001b[0mrun_trial\u001b[0m\u001b[0;34m(\u001b[0m\u001b[0mtrial\u001b[0m\u001b[0;34m,\u001b[0m \u001b[0;34m*\u001b[0m\u001b[0mfit_args\u001b[0m\u001b[0;34m,\u001b[0m \u001b[0;34m**\u001b[0m\u001b[0mfit_kwargs\u001b[0m\u001b[0;34m)\u001b[0m\u001b[0;34m\u001b[0m\u001b[0;34m\u001b[0m\u001b[0m\n\u001b[0m\u001b[1;32m    177\u001b[0m             \u001b[0mself\u001b[0m\u001b[0;34m.\u001b[0m\u001b[0mon_trial_end\u001b[0m\u001b[0;34m(\u001b[0m\u001b[0mtrial\u001b[0m\u001b[0;34m)\u001b[0m\u001b[0;34m\u001b[0m\u001b[0;34m\u001b[0m\u001b[0m\n\u001b[1;32m    178\u001b[0m         \u001b[0mself\u001b[0m\u001b[0;34m.\u001b[0m\u001b[0mon_search_end\u001b[0m\u001b[0;34m(\u001b[0m\u001b[0;34m)\u001b[0m\u001b[0;34m\u001b[0m\u001b[0;34m\u001b[0m\u001b[0m\n",
      "\u001b[0;32m/usr/local/lib/python3.7/dist-packages/keras_tuner/engine/multi_execution_tuner.py\u001b[0m in \u001b[0;36mrun_trial\u001b[0;34m(self, trial, *fit_args, **fit_kwargs)\u001b[0m\n\u001b[1;32m     88\u001b[0m             \u001b[0mcopied_fit_kwargs\u001b[0m\u001b[0;34m[\u001b[0m\u001b[0;34m\"callbacks\"\u001b[0m\u001b[0;34m]\u001b[0m \u001b[0;34m=\u001b[0m \u001b[0mcallbacks\u001b[0m\u001b[0;34m\u001b[0m\u001b[0;34m\u001b[0m\u001b[0m\n\u001b[1;32m     89\u001b[0m \u001b[0;34m\u001b[0m\u001b[0m\n\u001b[0;32m---> 90\u001b[0;31m             \u001b[0mhistory\u001b[0m \u001b[0;34m=\u001b[0m \u001b[0mself\u001b[0m\u001b[0;34m.\u001b[0m\u001b[0m_build_and_fit_model\u001b[0m\u001b[0;34m(\u001b[0m\u001b[0mtrial\u001b[0m\u001b[0;34m,\u001b[0m \u001b[0mfit_args\u001b[0m\u001b[0;34m,\u001b[0m \u001b[0mcopied_fit_kwargs\u001b[0m\u001b[0;34m)\u001b[0m\u001b[0;34m\u001b[0m\u001b[0;34m\u001b[0m\u001b[0m\n\u001b[0m\u001b[1;32m     91\u001b[0m             \u001b[0;32mfor\u001b[0m \u001b[0mmetric\u001b[0m\u001b[0;34m,\u001b[0m \u001b[0mepoch_values\u001b[0m \u001b[0;32min\u001b[0m \u001b[0mhistory\u001b[0m\u001b[0;34m.\u001b[0m\u001b[0mhistory\u001b[0m\u001b[0;34m.\u001b[0m\u001b[0mitems\u001b[0m\u001b[0;34m(\u001b[0m\u001b[0;34m)\u001b[0m\u001b[0;34m:\u001b[0m\u001b[0;34m\u001b[0m\u001b[0;34m\u001b[0m\u001b[0m\n\u001b[1;32m     92\u001b[0m                 \u001b[0;32mif\u001b[0m \u001b[0mself\u001b[0m\u001b[0;34m.\u001b[0m\u001b[0moracle\u001b[0m\u001b[0;34m.\u001b[0m\u001b[0mobjective\u001b[0m\u001b[0;34m.\u001b[0m\u001b[0mdirection\u001b[0m \u001b[0;34m==\u001b[0m \u001b[0;34m\"min\"\u001b[0m\u001b[0;34m:\u001b[0m\u001b[0;34m\u001b[0m\u001b[0;34m\u001b[0m\u001b[0m\n",
      "\u001b[0;32m/usr/local/lib/python3.7/dist-packages/keras_tuner/engine/tuner.py\u001b[0m in \u001b[0;36m_build_and_fit_model\u001b[0;34m(self, trial, fit_args, fit_kwargs)\u001b[0m\n\u001b[1;32m    147\u001b[0m         \"\"\"\n\u001b[1;32m    148\u001b[0m         \u001b[0mmodel\u001b[0m \u001b[0;34m=\u001b[0m \u001b[0mself\u001b[0m\u001b[0;34m.\u001b[0m\u001b[0mhypermodel\u001b[0m\u001b[0;34m.\u001b[0m\u001b[0mbuild\u001b[0m\u001b[0;34m(\u001b[0m\u001b[0mtrial\u001b[0m\u001b[0;34m.\u001b[0m\u001b[0mhyperparameters\u001b[0m\u001b[0;34m)\u001b[0m\u001b[0;34m\u001b[0m\u001b[0;34m\u001b[0m\u001b[0m\n\u001b[0;32m--> 149\u001b[0;31m         \u001b[0;32mreturn\u001b[0m \u001b[0mmodel\u001b[0m\u001b[0;34m.\u001b[0m\u001b[0mfit\u001b[0m\u001b[0;34m(\u001b[0m\u001b[0;34m*\u001b[0m\u001b[0mfit_args\u001b[0m\u001b[0;34m,\u001b[0m \u001b[0;34m**\u001b[0m\u001b[0mfit_kwargs\u001b[0m\u001b[0;34m)\u001b[0m\u001b[0;34m\u001b[0m\u001b[0;34m\u001b[0m\u001b[0m\n\u001b[0m\u001b[1;32m    150\u001b[0m \u001b[0;34m\u001b[0m\u001b[0m\n\u001b[1;32m    151\u001b[0m     \u001b[0;32mdef\u001b[0m \u001b[0mrun_trial\u001b[0m\u001b[0;34m(\u001b[0m\u001b[0mself\u001b[0m\u001b[0;34m,\u001b[0m \u001b[0mtrial\u001b[0m\u001b[0;34m,\u001b[0m \u001b[0;34m*\u001b[0m\u001b[0mfit_args\u001b[0m\u001b[0;34m,\u001b[0m \u001b[0;34m**\u001b[0m\u001b[0mfit_kwargs\u001b[0m\u001b[0;34m)\u001b[0m\u001b[0;34m:\u001b[0m\u001b[0;34m\u001b[0m\u001b[0;34m\u001b[0m\u001b[0m\n",
      "\u001b[0;32m/usr/local/lib/python3.7/dist-packages/keras/engine/training.py\u001b[0m in \u001b[0;36mfit\u001b[0;34m(self, x, y, batch_size, epochs, verbose, callbacks, validation_split, validation_data, shuffle, class_weight, sample_weight, initial_epoch, steps_per_epoch, validation_steps, validation_batch_size, validation_freq, max_queue_size, workers, use_multiprocessing)\u001b[0m\n\u001b[1;32m   1187\u001b[0m               \u001b[0mlogs\u001b[0m \u001b[0;34m=\u001b[0m \u001b[0mtmp_logs\u001b[0m  \u001b[0;31m# No error, now safe to assign to logs.\u001b[0m\u001b[0;34m\u001b[0m\u001b[0;34m\u001b[0m\u001b[0m\n\u001b[1;32m   1188\u001b[0m               \u001b[0mend_step\u001b[0m \u001b[0;34m=\u001b[0m \u001b[0mstep\u001b[0m \u001b[0;34m+\u001b[0m \u001b[0mdata_handler\u001b[0m\u001b[0;34m.\u001b[0m\u001b[0mstep_increment\u001b[0m\u001b[0;34m\u001b[0m\u001b[0;34m\u001b[0m\u001b[0m\n\u001b[0;32m-> 1189\u001b[0;31m               \u001b[0mcallbacks\u001b[0m\u001b[0;34m.\u001b[0m\u001b[0mon_train_batch_end\u001b[0m\u001b[0;34m(\u001b[0m\u001b[0mend_step\u001b[0m\u001b[0;34m,\u001b[0m \u001b[0mlogs\u001b[0m\u001b[0;34m)\u001b[0m\u001b[0;34m\u001b[0m\u001b[0;34m\u001b[0m\u001b[0m\n\u001b[0m\u001b[1;32m   1190\u001b[0m               \u001b[0;32mif\u001b[0m \u001b[0mself\u001b[0m\u001b[0;34m.\u001b[0m\u001b[0mstop_training\u001b[0m\u001b[0;34m:\u001b[0m\u001b[0;34m\u001b[0m\u001b[0;34m\u001b[0m\u001b[0m\n\u001b[1;32m   1191\u001b[0m                 \u001b[0;32mbreak\u001b[0m\u001b[0;34m\u001b[0m\u001b[0;34m\u001b[0m\u001b[0m\n",
      "\u001b[0;32m/usr/local/lib/python3.7/dist-packages/keras/callbacks.py\u001b[0m in \u001b[0;36mon_train_batch_end\u001b[0;34m(self, batch, logs)\u001b[0m\n\u001b[1;32m    433\u001b[0m     \"\"\"\n\u001b[1;32m    434\u001b[0m     \u001b[0;32mif\u001b[0m \u001b[0mself\u001b[0m\u001b[0;34m.\u001b[0m\u001b[0m_should_call_train_batch_hooks\u001b[0m\u001b[0;34m:\u001b[0m\u001b[0;34m\u001b[0m\u001b[0;34m\u001b[0m\u001b[0m\n\u001b[0;32m--> 435\u001b[0;31m       \u001b[0mself\u001b[0m\u001b[0;34m.\u001b[0m\u001b[0m_call_batch_hook\u001b[0m\u001b[0;34m(\u001b[0m\u001b[0mModeKeys\u001b[0m\u001b[0;34m.\u001b[0m\u001b[0mTRAIN\u001b[0m\u001b[0;34m,\u001b[0m \u001b[0;34m'end'\u001b[0m\u001b[0;34m,\u001b[0m \u001b[0mbatch\u001b[0m\u001b[0;34m,\u001b[0m \u001b[0mlogs\u001b[0m\u001b[0;34m=\u001b[0m\u001b[0mlogs\u001b[0m\u001b[0;34m)\u001b[0m\u001b[0;34m\u001b[0m\u001b[0;34m\u001b[0m\u001b[0m\n\u001b[0m\u001b[1;32m    436\u001b[0m \u001b[0;34m\u001b[0m\u001b[0m\n\u001b[1;32m    437\u001b[0m   \u001b[0;32mdef\u001b[0m \u001b[0mon_test_batch_begin\u001b[0m\u001b[0;34m(\u001b[0m\u001b[0mself\u001b[0m\u001b[0;34m,\u001b[0m \u001b[0mbatch\u001b[0m\u001b[0;34m,\u001b[0m \u001b[0mlogs\u001b[0m\u001b[0;34m=\u001b[0m\u001b[0;32mNone\u001b[0m\u001b[0;34m)\u001b[0m\u001b[0;34m:\u001b[0m\u001b[0;34m\u001b[0m\u001b[0;34m\u001b[0m\u001b[0m\n",
      "\u001b[0;32m/usr/local/lib/python3.7/dist-packages/keras/callbacks.py\u001b[0m in \u001b[0;36m_call_batch_hook\u001b[0;34m(self, mode, hook, batch, logs)\u001b[0m\n\u001b[1;32m    293\u001b[0m       \u001b[0mself\u001b[0m\u001b[0;34m.\u001b[0m\u001b[0m_call_batch_begin_hook\u001b[0m\u001b[0;34m(\u001b[0m\u001b[0mmode\u001b[0m\u001b[0;34m,\u001b[0m \u001b[0mbatch\u001b[0m\u001b[0;34m,\u001b[0m \u001b[0mlogs\u001b[0m\u001b[0;34m)\u001b[0m\u001b[0;34m\u001b[0m\u001b[0;34m\u001b[0m\u001b[0m\n\u001b[1;32m    294\u001b[0m     \u001b[0;32melif\u001b[0m \u001b[0mhook\u001b[0m \u001b[0;34m==\u001b[0m \u001b[0;34m'end'\u001b[0m\u001b[0;34m:\u001b[0m\u001b[0;34m\u001b[0m\u001b[0;34m\u001b[0m\u001b[0m\n\u001b[0;32m--> 295\u001b[0;31m       \u001b[0mself\u001b[0m\u001b[0;34m.\u001b[0m\u001b[0m_call_batch_end_hook\u001b[0m\u001b[0;34m(\u001b[0m\u001b[0mmode\u001b[0m\u001b[0;34m,\u001b[0m \u001b[0mbatch\u001b[0m\u001b[0;34m,\u001b[0m \u001b[0mlogs\u001b[0m\u001b[0;34m)\u001b[0m\u001b[0;34m\u001b[0m\u001b[0;34m\u001b[0m\u001b[0m\n\u001b[0m\u001b[1;32m    296\u001b[0m     \u001b[0;32melse\u001b[0m\u001b[0;34m:\u001b[0m\u001b[0;34m\u001b[0m\u001b[0;34m\u001b[0m\u001b[0m\n\u001b[1;32m    297\u001b[0m       \u001b[0;32mraise\u001b[0m \u001b[0mValueError\u001b[0m\u001b[0;34m(\u001b[0m\u001b[0;34m'Unrecognized hook: {}'\u001b[0m\u001b[0;34m.\u001b[0m\u001b[0mformat\u001b[0m\u001b[0;34m(\u001b[0m\u001b[0mhook\u001b[0m\u001b[0;34m)\u001b[0m\u001b[0;34m)\u001b[0m\u001b[0;34m\u001b[0m\u001b[0;34m\u001b[0m\u001b[0m\n",
      "\u001b[0;32m/usr/local/lib/python3.7/dist-packages/keras/callbacks.py\u001b[0m in \u001b[0;36m_call_batch_end_hook\u001b[0;34m(self, mode, batch, logs)\u001b[0m\n\u001b[1;32m    313\u001b[0m       \u001b[0mself\u001b[0m\u001b[0;34m.\u001b[0m\u001b[0m_batch_times\u001b[0m\u001b[0;34m.\u001b[0m\u001b[0mappend\u001b[0m\u001b[0;34m(\u001b[0m\u001b[0mbatch_time\u001b[0m\u001b[0;34m)\u001b[0m\u001b[0;34m\u001b[0m\u001b[0;34m\u001b[0m\u001b[0m\n\u001b[1;32m    314\u001b[0m \u001b[0;34m\u001b[0m\u001b[0m\n\u001b[0;32m--> 315\u001b[0;31m     \u001b[0mself\u001b[0m\u001b[0;34m.\u001b[0m\u001b[0m_call_batch_hook_helper\u001b[0m\u001b[0;34m(\u001b[0m\u001b[0mhook_name\u001b[0m\u001b[0;34m,\u001b[0m \u001b[0mbatch\u001b[0m\u001b[0;34m,\u001b[0m \u001b[0mlogs\u001b[0m\u001b[0;34m)\u001b[0m\u001b[0;34m\u001b[0m\u001b[0;34m\u001b[0m\u001b[0m\n\u001b[0m\u001b[1;32m    316\u001b[0m \u001b[0;34m\u001b[0m\u001b[0m\n\u001b[1;32m    317\u001b[0m     \u001b[0;32mif\u001b[0m \u001b[0mlen\u001b[0m\u001b[0;34m(\u001b[0m\u001b[0mself\u001b[0m\u001b[0;34m.\u001b[0m\u001b[0m_batch_times\u001b[0m\u001b[0;34m)\u001b[0m \u001b[0;34m>=\u001b[0m \u001b[0mself\u001b[0m\u001b[0;34m.\u001b[0m\u001b[0m_num_batches_for_timing_check\u001b[0m\u001b[0;34m:\u001b[0m\u001b[0;34m\u001b[0m\u001b[0;34m\u001b[0m\u001b[0m\n",
      "\u001b[0;32m/usr/local/lib/python3.7/dist-packages/keras/callbacks.py\u001b[0m in \u001b[0;36m_call_batch_hook_helper\u001b[0;34m(self, hook_name, batch, logs)\u001b[0m\n\u001b[1;32m    348\u001b[0m       \u001b[0mstart_time\u001b[0m \u001b[0;34m=\u001b[0m \u001b[0mtime\u001b[0m\u001b[0;34m.\u001b[0m\u001b[0mtime\u001b[0m\u001b[0;34m(\u001b[0m\u001b[0;34m)\u001b[0m\u001b[0;34m\u001b[0m\u001b[0;34m\u001b[0m\u001b[0m\n\u001b[1;32m    349\u001b[0m \u001b[0;34m\u001b[0m\u001b[0m\n\u001b[0;32m--> 350\u001b[0;31m     \u001b[0mlogs\u001b[0m \u001b[0;34m=\u001b[0m \u001b[0mself\u001b[0m\u001b[0;34m.\u001b[0m\u001b[0m_process_logs\u001b[0m\u001b[0;34m(\u001b[0m\u001b[0mlogs\u001b[0m\u001b[0;34m,\u001b[0m \u001b[0mis_batch_hook\u001b[0m\u001b[0;34m=\u001b[0m\u001b[0;32mTrue\u001b[0m\u001b[0;34m)\u001b[0m\u001b[0;34m\u001b[0m\u001b[0;34m\u001b[0m\u001b[0m\n\u001b[0m\u001b[1;32m    351\u001b[0m     \u001b[0;32mfor\u001b[0m \u001b[0mcallback\u001b[0m \u001b[0;32min\u001b[0m \u001b[0mself\u001b[0m\u001b[0;34m.\u001b[0m\u001b[0mcallbacks\u001b[0m\u001b[0;34m:\u001b[0m\u001b[0;34m\u001b[0m\u001b[0;34m\u001b[0m\u001b[0m\n\u001b[1;32m    352\u001b[0m       \u001b[0mhook\u001b[0m \u001b[0;34m=\u001b[0m \u001b[0mgetattr\u001b[0m\u001b[0;34m(\u001b[0m\u001b[0mcallback\u001b[0m\u001b[0;34m,\u001b[0m \u001b[0mhook_name\u001b[0m\u001b[0;34m)\u001b[0m\u001b[0;34m\u001b[0m\u001b[0;34m\u001b[0m\u001b[0m\n",
      "\u001b[0;32m/usr/local/lib/python3.7/dist-packages/keras/callbacks.py\u001b[0m in \u001b[0;36m_process_logs\u001b[0;34m(self, logs, is_batch_hook)\u001b[0m\n\u001b[1;32m    268\u001b[0m     \u001b[0;32mif\u001b[0m \u001b[0mis_batch_hook\u001b[0m \u001b[0;32mand\u001b[0m \u001b[0mself\u001b[0m\u001b[0;34m.\u001b[0m\u001b[0m_batch_hooks_support_tf_logs\u001b[0m\u001b[0;34m:\u001b[0m\u001b[0;34m\u001b[0m\u001b[0;34m\u001b[0m\u001b[0m\n\u001b[1;32m    269\u001b[0m       \u001b[0;32mreturn\u001b[0m \u001b[0mlogs\u001b[0m\u001b[0;34m\u001b[0m\u001b[0;34m\u001b[0m\u001b[0m\n\u001b[0;32m--> 270\u001b[0;31m     \u001b[0;32mreturn\u001b[0m \u001b[0mtf_utils\u001b[0m\u001b[0;34m.\u001b[0m\u001b[0msync_to_numpy_or_python_type\u001b[0m\u001b[0;34m(\u001b[0m\u001b[0mlogs\u001b[0m\u001b[0;34m)\u001b[0m\u001b[0;34m\u001b[0m\u001b[0;34m\u001b[0m\u001b[0m\n\u001b[0m\u001b[1;32m    271\u001b[0m \u001b[0;34m\u001b[0m\u001b[0m\n\u001b[1;32m    272\u001b[0m   \u001b[0;32mdef\u001b[0m \u001b[0mappend\u001b[0m\u001b[0;34m(\u001b[0m\u001b[0mself\u001b[0m\u001b[0;34m,\u001b[0m \u001b[0mcallback\u001b[0m\u001b[0;34m)\u001b[0m\u001b[0;34m:\u001b[0m\u001b[0;34m\u001b[0m\u001b[0;34m\u001b[0m\u001b[0m\n",
      "\u001b[0;32m/usr/local/lib/python3.7/dist-packages/keras/utils/tf_utils.py\u001b[0m in \u001b[0;36msync_to_numpy_or_python_type\u001b[0;34m(tensors)\u001b[0m\n\u001b[1;32m    514\u001b[0m     \u001b[0;32mreturn\u001b[0m \u001b[0mt\u001b[0m  \u001b[0;31m# Don't turn ragged or sparse tensors to NumPy.\u001b[0m\u001b[0;34m\u001b[0m\u001b[0;34m\u001b[0m\u001b[0m\n\u001b[1;32m    515\u001b[0m \u001b[0;34m\u001b[0m\u001b[0m\n\u001b[0;32m--> 516\u001b[0;31m   \u001b[0;32mreturn\u001b[0m \u001b[0mtf\u001b[0m\u001b[0;34m.\u001b[0m\u001b[0mnest\u001b[0m\u001b[0;34m.\u001b[0m\u001b[0mmap_structure\u001b[0m\u001b[0;34m(\u001b[0m\u001b[0m_to_single_numpy_or_python_type\u001b[0m\u001b[0;34m,\u001b[0m \u001b[0mtensors\u001b[0m\u001b[0;34m)\u001b[0m\u001b[0;34m\u001b[0m\u001b[0;34m\u001b[0m\u001b[0m\n\u001b[0m\u001b[1;32m    517\u001b[0m \u001b[0;34m\u001b[0m\u001b[0m\n\u001b[1;32m    518\u001b[0m \u001b[0;34m\u001b[0m\u001b[0m\n",
      "\u001b[0;32m/usr/local/lib/python3.7/dist-packages/tensorflow/python/util/nest.py\u001b[0m in \u001b[0;36mmap_structure\u001b[0;34m(func, *structure, **kwargs)\u001b[0m\n\u001b[1;32m    867\u001b[0m \u001b[0;34m\u001b[0m\u001b[0m\n\u001b[1;32m    868\u001b[0m   return pack_sequence_as(\n\u001b[0;32m--> 869\u001b[0;31m       \u001b[0mstructure\u001b[0m\u001b[0;34m[\u001b[0m\u001b[0;36m0\u001b[0m\u001b[0;34m]\u001b[0m\u001b[0;34m,\u001b[0m \u001b[0;34m[\u001b[0m\u001b[0mfunc\u001b[0m\u001b[0;34m(\u001b[0m\u001b[0;34m*\u001b[0m\u001b[0mx\u001b[0m\u001b[0;34m)\u001b[0m \u001b[0;32mfor\u001b[0m \u001b[0mx\u001b[0m \u001b[0;32min\u001b[0m \u001b[0mentries\u001b[0m\u001b[0;34m]\u001b[0m\u001b[0;34m,\u001b[0m\u001b[0;34m\u001b[0m\u001b[0;34m\u001b[0m\u001b[0m\n\u001b[0m\u001b[1;32m    870\u001b[0m       expand_composites=expand_composites)\n\u001b[1;32m    871\u001b[0m \u001b[0;34m\u001b[0m\u001b[0m\n",
      "\u001b[0;32m/usr/local/lib/python3.7/dist-packages/tensorflow/python/util/nest.py\u001b[0m in \u001b[0;36m<listcomp>\u001b[0;34m(.0)\u001b[0m\n\u001b[1;32m    867\u001b[0m \u001b[0;34m\u001b[0m\u001b[0m\n\u001b[1;32m    868\u001b[0m   return pack_sequence_as(\n\u001b[0;32m--> 869\u001b[0;31m       \u001b[0mstructure\u001b[0m\u001b[0;34m[\u001b[0m\u001b[0;36m0\u001b[0m\u001b[0;34m]\u001b[0m\u001b[0;34m,\u001b[0m \u001b[0;34m[\u001b[0m\u001b[0mfunc\u001b[0m\u001b[0;34m(\u001b[0m\u001b[0;34m*\u001b[0m\u001b[0mx\u001b[0m\u001b[0;34m)\u001b[0m \u001b[0;32mfor\u001b[0m \u001b[0mx\u001b[0m \u001b[0;32min\u001b[0m \u001b[0mentries\u001b[0m\u001b[0;34m]\u001b[0m\u001b[0;34m,\u001b[0m\u001b[0;34m\u001b[0m\u001b[0;34m\u001b[0m\u001b[0m\n\u001b[0m\u001b[1;32m    870\u001b[0m       expand_composites=expand_composites)\n\u001b[1;32m    871\u001b[0m \u001b[0;34m\u001b[0m\u001b[0m\n",
      "\u001b[0;32m/usr/local/lib/python3.7/dist-packages/keras/utils/tf_utils.py\u001b[0m in \u001b[0;36m_to_single_numpy_or_python_type\u001b[0;34m(t)\u001b[0m\n\u001b[1;32m    510\u001b[0m   \u001b[0;32mdef\u001b[0m \u001b[0m_to_single_numpy_or_python_type\u001b[0m\u001b[0;34m(\u001b[0m\u001b[0mt\u001b[0m\u001b[0;34m)\u001b[0m\u001b[0;34m:\u001b[0m\u001b[0;34m\u001b[0m\u001b[0;34m\u001b[0m\u001b[0m\n\u001b[1;32m    511\u001b[0m     \u001b[0;32mif\u001b[0m \u001b[0misinstance\u001b[0m\u001b[0;34m(\u001b[0m\u001b[0mt\u001b[0m\u001b[0;34m,\u001b[0m \u001b[0mtf\u001b[0m\u001b[0;34m.\u001b[0m\u001b[0mTensor\u001b[0m\u001b[0;34m)\u001b[0m\u001b[0;34m:\u001b[0m\u001b[0;34m\u001b[0m\u001b[0;34m\u001b[0m\u001b[0m\n\u001b[0;32m--> 512\u001b[0;31m       \u001b[0mx\u001b[0m \u001b[0;34m=\u001b[0m \u001b[0mt\u001b[0m\u001b[0;34m.\u001b[0m\u001b[0mnumpy\u001b[0m\u001b[0;34m(\u001b[0m\u001b[0;34m)\u001b[0m\u001b[0;34m\u001b[0m\u001b[0;34m\u001b[0m\u001b[0m\n\u001b[0m\u001b[1;32m    513\u001b[0m       \u001b[0;32mreturn\u001b[0m \u001b[0mx\u001b[0m\u001b[0;34m.\u001b[0m\u001b[0mitem\u001b[0m\u001b[0;34m(\u001b[0m\u001b[0;34m)\u001b[0m \u001b[0;32mif\u001b[0m \u001b[0mnp\u001b[0m\u001b[0;34m.\u001b[0m\u001b[0mndim\u001b[0m\u001b[0;34m(\u001b[0m\u001b[0mx\u001b[0m\u001b[0;34m)\u001b[0m \u001b[0;34m==\u001b[0m \u001b[0;36m0\u001b[0m \u001b[0;32melse\u001b[0m \u001b[0mx\u001b[0m\u001b[0;34m\u001b[0m\u001b[0;34m\u001b[0m\u001b[0m\n\u001b[1;32m    514\u001b[0m     \u001b[0;32mreturn\u001b[0m \u001b[0mt\u001b[0m  \u001b[0;31m# Don't turn ragged or sparse tensors to NumPy.\u001b[0m\u001b[0;34m\u001b[0m\u001b[0;34m\u001b[0m\u001b[0m\n",
      "\u001b[0;32m/usr/local/lib/python3.7/dist-packages/tensorflow/python/framework/ops.py\u001b[0m in \u001b[0;36mnumpy\u001b[0;34m(self)\u001b[0m\n\u001b[1;32m   1092\u001b[0m     \"\"\"\n\u001b[1;32m   1093\u001b[0m     \u001b[0;31m# TODO(slebedev): Consider avoiding a copy for non-CPU or remote tensors.\u001b[0m\u001b[0;34m\u001b[0m\u001b[0;34m\u001b[0m\u001b[0;34m\u001b[0m\u001b[0m\n\u001b[0;32m-> 1094\u001b[0;31m     \u001b[0mmaybe_arr\u001b[0m \u001b[0;34m=\u001b[0m \u001b[0mself\u001b[0m\u001b[0;34m.\u001b[0m\u001b[0m_numpy\u001b[0m\u001b[0;34m(\u001b[0m\u001b[0;34m)\u001b[0m  \u001b[0;31m# pylint: disable=protected-access\u001b[0m\u001b[0;34m\u001b[0m\u001b[0;34m\u001b[0m\u001b[0m\n\u001b[0m\u001b[1;32m   1095\u001b[0m     \u001b[0;32mreturn\u001b[0m \u001b[0mmaybe_arr\u001b[0m\u001b[0;34m.\u001b[0m\u001b[0mcopy\u001b[0m\u001b[0;34m(\u001b[0m\u001b[0;34m)\u001b[0m \u001b[0;32mif\u001b[0m \u001b[0misinstance\u001b[0m\u001b[0;34m(\u001b[0m\u001b[0mmaybe_arr\u001b[0m\u001b[0;34m,\u001b[0m \u001b[0mnp\u001b[0m\u001b[0;34m.\u001b[0m\u001b[0mndarray\u001b[0m\u001b[0;34m)\u001b[0m \u001b[0;32melse\u001b[0m \u001b[0mmaybe_arr\u001b[0m\u001b[0;34m\u001b[0m\u001b[0;34m\u001b[0m\u001b[0m\n\u001b[1;32m   1096\u001b[0m \u001b[0;34m\u001b[0m\u001b[0m\n",
      "\u001b[0;32m/usr/local/lib/python3.7/dist-packages/tensorflow/python/framework/ops.py\u001b[0m in \u001b[0;36m_numpy\u001b[0;34m(self)\u001b[0m\n\u001b[1;32m   1058\u001b[0m   \u001b[0;32mdef\u001b[0m \u001b[0m_numpy\u001b[0m\u001b[0;34m(\u001b[0m\u001b[0mself\u001b[0m\u001b[0;34m)\u001b[0m\u001b[0;34m:\u001b[0m\u001b[0;34m\u001b[0m\u001b[0;34m\u001b[0m\u001b[0m\n\u001b[1;32m   1059\u001b[0m     \u001b[0;32mtry\u001b[0m\u001b[0;34m:\u001b[0m\u001b[0;34m\u001b[0m\u001b[0;34m\u001b[0m\u001b[0m\n\u001b[0;32m-> 1060\u001b[0;31m       \u001b[0;32mreturn\u001b[0m \u001b[0mself\u001b[0m\u001b[0;34m.\u001b[0m\u001b[0m_numpy_internal\u001b[0m\u001b[0;34m(\u001b[0m\u001b[0;34m)\u001b[0m\u001b[0;34m\u001b[0m\u001b[0;34m\u001b[0m\u001b[0m\n\u001b[0m\u001b[1;32m   1061\u001b[0m     \u001b[0;32mexcept\u001b[0m \u001b[0mcore\u001b[0m\u001b[0;34m.\u001b[0m\u001b[0m_NotOkStatusException\u001b[0m \u001b[0;32mas\u001b[0m \u001b[0me\u001b[0m\u001b[0;34m:\u001b[0m  \u001b[0;31m# pylint: disable=protected-access\u001b[0m\u001b[0;34m\u001b[0m\u001b[0;34m\u001b[0m\u001b[0m\n\u001b[1;32m   1062\u001b[0m       \u001b[0msix\u001b[0m\u001b[0;34m.\u001b[0m\u001b[0mraise_from\u001b[0m\u001b[0;34m(\u001b[0m\u001b[0mcore\u001b[0m\u001b[0;34m.\u001b[0m\u001b[0m_status_to_exception\u001b[0m\u001b[0;34m(\u001b[0m\u001b[0me\u001b[0m\u001b[0;34m.\u001b[0m\u001b[0mcode\u001b[0m\u001b[0;34m,\u001b[0m \u001b[0me\u001b[0m\u001b[0;34m.\u001b[0m\u001b[0mmessage\u001b[0m\u001b[0;34m)\u001b[0m\u001b[0;34m,\u001b[0m \u001b[0;32mNone\u001b[0m\u001b[0;34m)\u001b[0m  \u001b[0;31m# pylint: disable=protected-access\u001b[0m\u001b[0;34m\u001b[0m\u001b[0;34m\u001b[0m\u001b[0m\n",
      "\u001b[0;31mKeyboardInterrupt\u001b[0m: "
     ]
    }
   ],
   "source": [
    "tuner.search(X_train, y_train, epochs=10, validation_data=(X_test, y_test))"
   ]
  },
  {
   "cell_type": "code",
   "execution_count": null,
   "metadata": {
    "colab": {
     "base_uri": "https://localhost:8080/"
    },
    "executionInfo": {
     "elapsed": 334,
     "status": "ok",
     "timestamp": 1630942038347,
     "user": {
      "displayName": "tarun suresh",
      "photoUrl": "https://lh3.googleusercontent.com/a-/AOh14Gho0KlKaHRPsnL6-N-yT2HLk2mPog7jy0TgoPsEGA=s64",
      "userId": "06821843877267937716"
     },
     "user_tz": -330
    },
    "id": "c8uli3HnqsqF",
    "outputId": "b0b379ed-048f-4e55-a192-928779a4d8e7"
   },
   "outputs": [
    {
     "name": "stdout",
     "output_type": "stream",
     "text": [
      "Results summary\n",
      "Results in /content/drive/MyDrive/NLP/MovieReviewNLP/MovieReview\n",
      "Showing 10 best trials\n",
      "Objective(name='val_accuracy', direction='max')\n",
      "Trial summary\n",
      "Hyperparameters:\n",
      "units: 100\n",
      "learning_rate: 0.0001\n",
      "Score: 0.7391919294993082\n",
      "Trial summary\n",
      "Hyperparameters:\n",
      "units: 110\n",
      "learning_rate: 0.0001\n",
      "Score: 0.7387878894805908\n",
      "Trial summary\n",
      "Hyperparameters:\n",
      "units: 100\n",
      "learning_rate: 0.001\n",
      "Score: 0.7056565483411154\n",
      "Trial summary\n",
      "Hyperparameters:\n",
      "units: 80\n",
      "learning_rate: 0.001\n",
      "Score: 0.7054545481999716\n"
     ]
    }
   ],
   "source": [
    "tuner.results_summary()"
   ]
  }
 ],
 "metadata": {
  "accelerator": "GPU",
  "colab": {
   "authorship_tag": "ABX9TyOCrtlFUDFNwEEMzd7/+1wn",
   "collapsed_sections": [],
   "name": "MovieReviewNLP.ipynb",
   "provenance": []
  },
  "kernelspec": {
   "display_name": "Python 3",
   "language": "python",
   "name": "python3"
  },
  "language_info": {
   "codemirror_mode": {
    "name": "ipython",
    "version": 3
   },
   "file_extension": ".py",
   "mimetype": "text/x-python",
   "name": "python",
   "nbconvert_exporter": "python",
   "pygments_lexer": "ipython3",
   "version": "3.8.8"
  }
 },
 "nbformat": 4,
 "nbformat_minor": 1
}
